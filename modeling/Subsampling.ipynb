{
 "cells": [
  {
   "cell_type": "code",
   "execution_count": 1,
   "id": "7387f4ff",
   "metadata": {},
   "outputs": [],
   "source": [
    "import pandas as pd\n",
    "import zipfile\n",
    "import csv\n",
    "import random\n",
    "import time\n",
    "import numpy as np\n",
    "import pickle"
   ]
  },
  {
   "cell_type": "markdown",
   "id": "f3e45719",
   "metadata": {},
   "source": [
    "# Data Import"
   ]
  },
  {
   "cell_type": "code",
   "execution_count": 2,
   "id": "f166583a",
   "metadata": {},
   "outputs": [],
   "source": [
    "zf = zipfile.ZipFile('h-and-m-personalized-fashion-recommendations.zip') "
   ]
  },
  {
   "cell_type": "code",
   "execution_count": 3,
   "id": "6a69f1e0",
   "metadata": {},
   "outputs": [],
   "source": [
    "#Customers datafile\n",
    "customers = pd.read_csv(zf.open('customers.csv'))"
   ]
  },
  {
   "cell_type": "code",
   "execution_count": 6,
   "id": "f72ba15c",
   "metadata": {},
   "outputs": [],
   "source": [
    "transactions_train = pd.read_csv(zf.open('transactions_train.csv'))"
   ]
  },
  {
   "cell_type": "markdown",
   "id": "1e3f7c6b",
   "metadata": {},
   "source": [
    "# Subset transactions"
   ]
  },
  {
   "cell_type": "markdown",
   "id": "6fd37476",
   "metadata": {},
   "source": [
    "### We will only use the most recent transactions, so there is no need to read in the whole file everytime"
   ]
  },
  {
   "cell_type": "code",
   "execution_count": 7,
   "id": "a8425cb2",
   "metadata": {},
   "outputs": [],
   "source": [
    "transactions_train.t_dat = pd.to_datetime(transactions_train.t_dat)\n",
    "transactions_train = transactions_train.loc[transactions_train.t_dat >= '2019-03-01',:]"
   ]
  },
  {
   "cell_type": "code",
   "execution_count": 58,
   "id": "bf624200",
   "metadata": {},
   "outputs": [],
   "source": [
    "filehandler = open(\"transactions_train.pkl\", 'wb') \n",
    "pickle.dump(transactions_train, filehandler)\n",
    "filehandler.close()"
   ]
  },
  {
   "cell_type": "code",
   "execution_count": 6,
   "id": "101e2601",
   "metadata": {},
   "outputs": [],
   "source": [
    "filehandler = open(\"transactions_train.pkl\", \"rb\")\n",
    "transactions_train = pickle.load(filehandler)\n",
    "filehandler.close()"
   ]
  },
  {
   "cell_type": "code",
   "execution_count": 7,
   "id": "d30669cf",
   "metadata": {},
   "outputs": [],
   "source": [
    "test = transactions_train.loc[transactions_train.t_dat >= '2020-09-16',:]\n",
    "train = transactions_train.loc[(transactions_train.t_dat < '2020-09-16') & (transactions_train.t_dat >= '2020-09-09'),:]"
   ]
  },
  {
   "cell_type": "code",
   "execution_count": 8,
   "id": "51731f16",
   "metadata": {},
   "outputs": [
    {
     "data": {
      "text/plain": [
       "3860b5e65d48bb509d89e6b21ec0458e13c75eab2e95f53ea2269fafc01a5567    104\n",
       "e4ea6ece6706e9c119a3640e09e842f5ae7d62a6b546d4f2448e08def4bd7283     95\n",
       "54e8ebd39543b5a4d69c3e7d79977558d2a606e6540ba0a50e07001cfff202c2     90\n",
       "6e38d8f80e5c6d0db8d348a50c3c6ac29b17dfd3ac83d1b6bc33f090f8c03ab1     69\n",
       "49501893c2f65bf0a0b585e5a1c7022dd5139232d00bc68a57376cb897284102     60\n",
       "                                                                   ... \n",
       "3bcab54ca90cc4c6b8fc46ee961f9f015d6a16250f8cd42c6bc8b6e1c21ee81b      1\n",
       "3bc81d10babcab13c95474cb171a6f10416fe9a0fcfc5c8f559be616bae37d5c      1\n",
       "3bbf1754b497073b0976dac95ae32e4b9006d0e0d104e2450573eec2a351c4f0      1\n",
       "3b9f6e7907566378f605ca45ced5c4d08df27091f223a22794ebe493a71a8f68      1\n",
       "fffef3b6b73545df065b521e19f64bf6fe93bfd450ab20e02ce5d1e58a8f700b      1\n",
       "Name: customer_id, Length: 68984, dtype: int64"
      ]
     },
     "execution_count": 8,
     "metadata": {},
     "output_type": "execute_result"
    }
   ],
   "source": [
    "# How many items do customers typically buy?\n",
    "test.customer_id.value_counts()"
   ]
  },
  {
   "cell_type": "code",
   "execution_count": 9,
   "id": "15641cb6",
   "metadata": {},
   "outputs": [
    {
     "name": "stdout",
     "output_type": "stream",
     "text": [
      "(240311, 5)\n",
      "68984\n",
      "17986\n"
     ]
    }
   ],
   "source": [
    "print(test.shape)\n",
    "print(test.customer_id.nunique())\n",
    "print(test.article_id.nunique())"
   ]
  },
  {
   "cell_type": "code",
   "execution_count": 10,
   "id": "732a1916",
   "metadata": {},
   "outputs": [
    {
     "name": "stdout",
     "output_type": "stream",
     "text": [
      "(255241, 5)\n",
      "72019\n",
      "18611\n"
     ]
    }
   ],
   "source": [
    "print(train.shape)\n",
    "print(train.customer_id.nunique())\n",
    "print(train.article_id.nunique())"
   ]
  },
  {
   "cell_type": "markdown",
   "id": "4dcdc320",
   "metadata": {},
   "source": [
    "# Subset data"
   ]
  },
  {
   "cell_type": "markdown",
   "id": "a8ca10b6",
   "metadata": {},
   "source": [
    "### Only customer and items in both the train and test set will be used"
   ]
  },
  {
   "cell_type": "code",
   "execution_count": 11,
   "id": "d1ca3cc9",
   "metadata": {},
   "outputs": [
    {
     "name": "stdout",
     "output_type": "stream",
     "text": [
      "12670\n",
      "10043\n",
      "12534\n",
      "8794\n"
     ]
    }
   ],
   "source": [
    "customer_list = test.customer_id.unique()\n",
    "#print(len(customer_list))\n",
    "item_list = test.article_id.unique()\n",
    "\n",
    "train = train.loc[train.customer_id.isin(customer_list),:]\n",
    "print(train.customer_id.nunique())\n",
    "print(train.article_id.nunique())\n",
    "train = train.loc[train.article_id.isin(item_list),:]\n",
    "print(train.customer_id.nunique())\n",
    "print(train.article_id.nunique())\n",
    "\n",
    "#Now drop test customers/items who are not in train\n",
    "customer_list = train.customer_id.unique()\n",
    "#print(len(customer_list))\n",
    "item_list = train.article_id.unique()\n",
    "\n",
    "test = test.loc[test.customer_id.isin(train.customer_id.unique()),:]\n",
    "test = test.loc[test.article_id.isin(train.article_id.unique()),:]"
   ]
  },
  {
   "cell_type": "markdown",
   "id": "e263b8ac",
   "metadata": {},
   "source": [
    "# Final Counts"
   ]
  },
  {
   "cell_type": "code",
   "execution_count": 12,
   "id": "df08e8ba",
   "metadata": {},
   "outputs": [
    {
     "name": "stdout",
     "output_type": "stream",
     "text": [
      "(49357, 5)\n",
      "12534\n",
      "8794\n",
      "(36160, 5)\n",
      "11765\n",
      "6206\n"
     ]
    }
   ],
   "source": [
    "print(train.shape)\n",
    "print(train.customer_id.nunique())\n",
    "print(train.article_id.nunique())\n",
    "\n",
    "print(test.shape)\n",
    "print(test.customer_id.nunique())\n",
    "print(test.article_id.nunique())"
   ]
  },
  {
   "cell_type": "code",
   "execution_count": 15,
   "id": "048d1259",
   "metadata": {},
   "outputs": [],
   "source": [
    "# Subset 6 month transaction data to customers in test set\n",
    "transactions_6mth = transactions_train.loc[transactions_train.customer_id.isin(test.customer_id.unique()), :]\n",
    "transactions_6mth = transactions_6mth.loc[transactions_6mth.article_id.isin(test.article_id.unique()), :]"
   ]
  },
  {
   "cell_type": "markdown",
   "id": "3a5298ce",
   "metadata": {},
   "source": [
    "# Save transactions, list of customers, list of items"
   ]
  },
  {
   "cell_type": "code",
   "execution_count": null,
   "id": "00963028",
   "metadata": {},
   "outputs": [],
   "source": [
    "filehandler = open(\"transactions_6mth.pkl\", 'wb') \n",
    "pickle.dump(transactions_6mth, filehandler)\n",
    "filehandler.close()"
   ]
  },
  {
   "cell_type": "code",
   "execution_count": 14,
   "id": "bf5fc72a",
   "metadata": {},
   "outputs": [],
   "source": [
    "filehandler = open(\"customer_list.pkl\", 'wb') \n",
    "pickle.dump(test.customer_id.unique(), filehandler)\n",
    "filehandler.close()\n",
    "\n",
    "filehandler = open(\"article_list.pkl\", 'wb') \n",
    "pickle.dump(test.article_id.unique(), filehandler)\n",
    "filehandler.close()"
   ]
  },
  {
   "cell_type": "code",
   "execution_count": 17,
   "id": "3700ebd4",
   "metadata": {},
   "outputs": [
    {
     "name": "stdout",
     "output_type": "stream",
     "text": [
      "(278334, 5)\n",
      "11765\n",
      "6206\n"
     ]
    }
   ],
   "source": [
    "print(transactions_6mth.shape)\n",
    "print(transactions_6mth.customer_id.nunique())\n",
    "print(transactions_6mth.article_id.nunique())"
   ]
  },
  {
   "cell_type": "markdown",
   "id": "90bed129",
   "metadata": {},
   "source": [
    "# creating smaller set to test code with. Can ignore code below"
   ]
  },
  {
   "cell_type": "code",
   "execution_count": 17,
   "id": "543b6cea",
   "metadata": {},
   "outputs": [
    {
     "data": {
      "text/html": [
       "<div>\n",
       "<style scoped>\n",
       "    .dataframe tbody tr th:only-of-type {\n",
       "        vertical-align: middle;\n",
       "    }\n",
       "\n",
       "    .dataframe tbody tr th {\n",
       "        vertical-align: top;\n",
       "    }\n",
       "\n",
       "    .dataframe thead th {\n",
       "        text-align: right;\n",
       "    }\n",
       "</style>\n",
       "<table border=\"1\" class=\"dataframe\">\n",
       "  <thead>\n",
       "    <tr style=\"text-align: right;\">\n",
       "      <th></th>\n",
       "      <th>customer</th>\n",
       "      <th>item</th>\n",
       "      <th>rating</th>\n",
       "    </tr>\n",
       "  </thead>\n",
       "  <tbody>\n",
       "    <tr>\n",
       "      <th>31755458</th>\n",
       "      <td>0</td>\n",
       "      <td>3134</td>\n",
       "      <td>1</td>\n",
       "    </tr>\n",
       "    <tr>\n",
       "      <th>31755460</th>\n",
       "      <td>1</td>\n",
       "      <td>648</td>\n",
       "      <td>1</td>\n",
       "    </tr>\n",
       "    <tr>\n",
       "      <th>31755461</th>\n",
       "      <td>1</td>\n",
       "      <td>126</td>\n",
       "      <td>1</td>\n",
       "    </tr>\n",
       "    <tr>\n",
       "      <th>31755462</th>\n",
       "      <td>2</td>\n",
       "      <td>1026</td>\n",
       "      <td>1</td>\n",
       "    </tr>\n",
       "    <tr>\n",
       "      <th>31755463</th>\n",
       "      <td>2</td>\n",
       "      <td>4459</td>\n",
       "      <td>1</td>\n",
       "    </tr>\n",
       "  </tbody>\n",
       "</table>\n",
       "</div>"
      ],
      "text/plain": [
       "          customer  item  rating\n",
       "31755458         0  3134       1\n",
       "31755460         1   648       1\n",
       "31755461         1   126       1\n",
       "31755462         2  1026       1\n",
       "31755463         2  4459       1"
      ]
     },
     "metadata": {},
     "output_type": "display_data"
    }
   ],
   "source": [
    "customerIds = train.customer_id.unique()\n",
    "customerIds.sort()\n",
    "articleIds = train.article_id.unique()\n",
    "articleIds.sort()\n",
    "\n",
    "m = customerIds.size\n",
    "n = articleIds.size\n",
    "numTrans = len(train)\n",
    "\n",
    "customerIds_to_customerIdsIDX = dict(zip(customerIds, range(0, customerIds.size )))\n",
    "customerIDX_to_customerId = dict(zip(range(0, customerIds.size), customerIds))\n",
    "\n",
    "itemId_to_itemIDX = dict(zip(articleIds, range(0, articleIds.size)))\n",
    "itemIDX_to_itemId = dict(zip(range(0, articleIds.size), articleIds))\n",
    "\n",
    "train['rating'] = list(np.full(len(train), 1))\n",
    "\n",
    "df_train = pd.concat([train['customer_id'].map(customerIds_to_customerIdsIDX), train['article_id'].map(itemId_to_itemIDX), train['rating']], axis=1)\n",
    "df_train.columns = ['customer', 'item', 'rating']\n",
    "df_train.sort_values(by = 'customer', inplace = True)\n",
    "\n",
    "test['rating'] = list(np.full(len(test), 1))\n",
    "\n",
    "df_test = pd.concat([test['customer_id'].map(customerIds_to_customerIdsIDX), test['article_id'].map(itemId_to_itemIDX), test['rating']], axis=1)\n",
    "df_test.columns = ['customer', 'item', 'rating']\n",
    "df_test.sort_values(by = 'customer', inplace = True)\n",
    "\n",
    "\n",
    "display(df_test.head())"
   ]
  },
  {
   "cell_type": "code",
   "execution_count": 21,
   "id": "503c9f41",
   "metadata": {},
   "outputs": [
    {
     "data": {
      "text/plain": [
       "(15524, 3)"
      ]
     },
     "execution_count": 21,
     "metadata": {},
     "output_type": "execute_result"
    }
   ],
   "source": [
    "# Create smaller sample for testing code\n",
    "train_small = df_train.loc[df_train.customer < 1000, :]\n",
    "train_small.shape"
   ]
  },
  {
   "cell_type": "code",
   "execution_count": null,
   "id": "e1f986d3",
   "metadata": {},
   "outputs": [],
   "source": [
    "filehandler = open(\"train.pkl\", 'wb') \n",
    "pickle.dump(df_train, filehandler)\n",
    "filehandler.close()"
   ]
  },
  {
   "cell_type": "code",
   "execution_count": null,
   "id": "c89fce3b",
   "metadata": {},
   "outputs": [],
   "source": [
    "filehandler = open(\"test.pkl\", 'wb') \n",
    "pickle.dump(df_test, filehandler)\n",
    "filehandler.close()"
   ]
  },
  {
   "cell_type": "code",
   "execution_count": 22,
   "id": "9fbc340a",
   "metadata": {},
   "outputs": [],
   "source": [
    "filehandler = open(\"train_small.pkl\", 'wb') \n",
    "pickle.dump(train_small, filehandler)\n",
    "filehandler.close()"
   ]
  },
  {
   "cell_type": "code",
   "execution_count": 23,
   "id": "c9db8b4c",
   "metadata": {},
   "outputs": [
    {
     "data": {
      "text/html": [
       "<div>\n",
       "<style scoped>\n",
       "    .dataframe tbody tr th:only-of-type {\n",
       "        vertical-align: middle;\n",
       "    }\n",
       "\n",
       "    .dataframe tbody tr th {\n",
       "        vertical-align: top;\n",
       "    }\n",
       "\n",
       "    .dataframe thead th {\n",
       "        text-align: right;\n",
       "    }\n",
       "</style>\n",
       "<table border=\"1\" class=\"dataframe\">\n",
       "  <thead>\n",
       "    <tr style=\"text-align: right;\">\n",
       "      <th></th>\n",
       "      <th>customer</th>\n",
       "      <th>item</th>\n",
       "      <th>rating</th>\n",
       "    </tr>\n",
       "  </thead>\n",
       "  <tbody>\n",
       "    <tr>\n",
       "      <th>31140485</th>\n",
       "      <td>0</td>\n",
       "      <td>6233</td>\n",
       "      <td>1</td>\n",
       "    </tr>\n",
       "    <tr>\n",
       "      <th>29794828</th>\n",
       "      <td>0</td>\n",
       "      <td>4539</td>\n",
       "      <td>1</td>\n",
       "    </tr>\n",
       "    <tr>\n",
       "      <th>29794827</th>\n",
       "      <td>0</td>\n",
       "      <td>2173</td>\n",
       "      <td>1</td>\n",
       "    </tr>\n",
       "    <tr>\n",
       "      <th>29794829</th>\n",
       "      <td>0</td>\n",
       "      <td>4539</td>\n",
       "      <td>1</td>\n",
       "    </tr>\n",
       "    <tr>\n",
       "      <th>30180375</th>\n",
       "      <td>0</td>\n",
       "      <td>6468</td>\n",
       "      <td>1</td>\n",
       "    </tr>\n",
       "    <tr>\n",
       "      <th>...</th>\n",
       "      <td>...</td>\n",
       "      <td>...</td>\n",
       "      <td>...</td>\n",
       "    </tr>\n",
       "    <tr>\n",
       "      <th>30669401</th>\n",
       "      <td>999</td>\n",
       "      <td>6184</td>\n",
       "      <td>1</td>\n",
       "    </tr>\n",
       "    <tr>\n",
       "      <th>26156004</th>\n",
       "      <td>999</td>\n",
       "      <td>817</td>\n",
       "      <td>1</td>\n",
       "    </tr>\n",
       "    <tr>\n",
       "      <th>31105332</th>\n",
       "      <td>999</td>\n",
       "      <td>3463</td>\n",
       "      <td>1</td>\n",
       "    </tr>\n",
       "    <tr>\n",
       "      <th>26156002</th>\n",
       "      <td>999</td>\n",
       "      <td>3262</td>\n",
       "      <td>1</td>\n",
       "    </tr>\n",
       "    <tr>\n",
       "      <th>26156003</th>\n",
       "      <td>999</td>\n",
       "      <td>3127</td>\n",
       "      <td>1</td>\n",
       "    </tr>\n",
       "  </tbody>\n",
       "</table>\n",
       "<p>15524 rows × 3 columns</p>\n",
       "</div>"
      ],
      "text/plain": [
       "          customer  item  rating\n",
       "31140485         0  6233       1\n",
       "29794828         0  4539       1\n",
       "29794827         0  2173       1\n",
       "29794829         0  4539       1\n",
       "30180375         0  6468       1\n",
       "...            ...   ...     ...\n",
       "30669401       999  6184       1\n",
       "26156004       999   817       1\n",
       "31105332       999  3463       1\n",
       "26156002       999  3262       1\n",
       "26156003       999  3127       1\n",
       "\n",
       "[15524 rows x 3 columns]"
      ]
     },
     "execution_count": 23,
     "metadata": {},
     "output_type": "execute_result"
    }
   ],
   "source": [
    "train_small"
   ]
  },
  {
   "cell_type": "code",
   "execution_count": 24,
   "id": "054c7ede",
   "metadata": {},
   "outputs": [],
   "source": [
    "#Customers datafile\n",
    "customers = pd.read_csv(zf.open('customers.csv'))"
   ]
  },
  {
   "cell_type": "code",
   "execution_count": 25,
   "id": "d43e0731",
   "metadata": {},
   "outputs": [],
   "source": [
    "customers = customers.loc[customers.customer_id.isin(train.customer_id.unique()),:]"
   ]
  },
  {
   "cell_type": "code",
   "execution_count": 30,
   "id": "a4ee8d2e",
   "metadata": {},
   "outputs": [],
   "source": [
    "df_customers = pd.concat([customers['customer_id'].map(customerIds_to_customerIdsIDX), customers['age']], axis=1)\n",
    "df_customers.columns = ['customer', 'age']\n",
    "df_customers.sort_values(by = 'customer', inplace = True)"
   ]
  },
  {
   "cell_type": "code",
   "execution_count": 31,
   "id": "e0f661eb",
   "metadata": {},
   "outputs": [
    {
     "data": {
      "text/html": [
       "<div>\n",
       "<style scoped>\n",
       "    .dataframe tbody tr th:only-of-type {\n",
       "        vertical-align: middle;\n",
       "    }\n",
       "\n",
       "    .dataframe tbody tr th {\n",
       "        vertical-align: top;\n",
       "    }\n",
       "\n",
       "    .dataframe thead th {\n",
       "        text-align: right;\n",
       "    }\n",
       "</style>\n",
       "<table border=\"1\" class=\"dataframe\">\n",
       "  <thead>\n",
       "    <tr style=\"text-align: right;\">\n",
       "      <th></th>\n",
       "      <th>customer</th>\n",
       "      <th>age</th>\n",
       "    </tr>\n",
       "  </thead>\n",
       "  <tbody>\n",
       "    <tr>\n",
       "      <th>86</th>\n",
       "      <td>0</td>\n",
       "      <td>33.0</td>\n",
       "    </tr>\n",
       "    <tr>\n",
       "      <th>349</th>\n",
       "      <td>1</td>\n",
       "      <td>25.0</td>\n",
       "    </tr>\n",
       "    <tr>\n",
       "      <th>429</th>\n",
       "      <td>2</td>\n",
       "      <td>30.0</td>\n",
       "    </tr>\n",
       "    <tr>\n",
       "      <th>821</th>\n",
       "      <td>3</td>\n",
       "      <td>48.0</td>\n",
       "    </tr>\n",
       "    <tr>\n",
       "      <th>1015</th>\n",
       "      <td>4</td>\n",
       "      <td>49.0</td>\n",
       "    </tr>\n",
       "    <tr>\n",
       "      <th>...</th>\n",
       "      <td>...</td>\n",
       "      <td>...</td>\n",
       "    </tr>\n",
       "    <tr>\n",
       "      <th>1371091</th>\n",
       "      <td>8931</td>\n",
       "      <td>30.0</td>\n",
       "    </tr>\n",
       "    <tr>\n",
       "      <th>1371691</th>\n",
       "      <td>8932</td>\n",
       "      <td>32.0</td>\n",
       "    </tr>\n",
       "    <tr>\n",
       "      <th>1371721</th>\n",
       "      <td>8933</td>\n",
       "      <td>67.0</td>\n",
       "    </tr>\n",
       "    <tr>\n",
       "      <th>1371747</th>\n",
       "      <td>8934</td>\n",
       "      <td>21.0</td>\n",
       "    </tr>\n",
       "    <tr>\n",
       "      <th>1371960</th>\n",
       "      <td>8935</td>\n",
       "      <td>29.0</td>\n",
       "    </tr>\n",
       "  </tbody>\n",
       "</table>\n",
       "<p>8936 rows × 2 columns</p>\n",
       "</div>"
      ],
      "text/plain": [
       "         customer   age\n",
       "86              0  33.0\n",
       "349             1  25.0\n",
       "429             2  30.0\n",
       "821             3  48.0\n",
       "1015            4  49.0\n",
       "...           ...   ...\n",
       "1371091      8931  30.0\n",
       "1371691      8932  32.0\n",
       "1371721      8933  67.0\n",
       "1371747      8934  21.0\n",
       "1371960      8935  29.0\n",
       "\n",
       "[8936 rows x 2 columns]"
      ]
     },
     "execution_count": 31,
     "metadata": {},
     "output_type": "execute_result"
    }
   ],
   "source": [
    "df_customers"
   ]
  },
  {
   "cell_type": "code",
   "execution_count": 32,
   "id": "0e9e9a1d",
   "metadata": {},
   "outputs": [],
   "source": [
    "filehandler = open(\"df_customers.pkl\", 'wb') \n",
    "pickle.dump(df_customers, filehandler)\n",
    "filehandler.close()"
   ]
  },
  {
   "cell_type": "code",
   "execution_count": null,
   "id": "73f98130",
   "metadata": {},
   "outputs": [],
   "source": []
  }
 ],
 "metadata": {
  "kernelspec": {
   "display_name": "Python 3 (ipykernel)",
   "language": "python",
   "name": "python3"
  },
  "language_info": {
   "codemirror_mode": {
    "name": "ipython",
    "version": 3
   },
   "file_extension": ".py",
   "mimetype": "text/x-python",
   "name": "python",
   "nbconvert_exporter": "python",
   "pygments_lexer": "ipython3",
   "version": "3.9.7"
  }
 },
 "nbformat": 4,
 "nbformat_minor": 5
}
