{
 "cells": [
  {
   "cell_type": "code",
   "execution_count": 7,
   "id": "6acf6394",
   "metadata": {},
   "outputs": [],
   "source": [
    "import pandas as pd\n",
    "import zipfile\n",
    "import csv\n",
    "import random\n",
    "import time\n",
    "import numpy as np\n",
    "from scipy import sparse as sp\n",
    "from scipy.sparse.linalg import norm\n",
    "import sklearn.preprocessing as pp\n",
    "import pickle  "
   ]
  },
  {
   "cell_type": "code",
   "execution_count": 2,
   "id": "52b29b2a",
   "metadata": {},
   "outputs": [],
   "source": [
    "zf = zipfile.ZipFile('h-and-m-personalized-fashion-recommendations.zip') "
   ]
  },
  {
   "cell_type": "code",
   "execution_count": null,
   "id": "6fe23cbf",
   "metadata": {},
   "outputs": [],
   "source": []
  },
  {
   "cell_type": "code",
   "execution_count": 3,
   "id": "4832a117",
   "metadata": {},
   "outputs": [],
   "source": [
    "#Customers datafile\n",
    "customers = pd.read_csv(zf.open('customers.csv'))"
   ]
  },
  {
   "cell_type": "code",
   "execution_count": null,
   "id": "088c2494",
   "metadata": {},
   "outputs": [],
   "source": []
  },
  {
   "cell_type": "code",
   "execution_count": 2,
   "id": "6234bf28",
   "metadata": {},
   "outputs": [
    {
     "data": {
      "text/html": [
       "<div>\n",
       "<style scoped>\n",
       "    .dataframe tbody tr th:only-of-type {\n",
       "        vertical-align: middle;\n",
       "    }\n",
       "\n",
       "    .dataframe tbody tr th {\n",
       "        vertical-align: top;\n",
       "    }\n",
       "\n",
       "    .dataframe thead th {\n",
       "        text-align: right;\n",
       "    }\n",
       "</style>\n",
       "<table border=\"1\" class=\"dataframe\">\n",
       "  <thead>\n",
       "    <tr style=\"text-align: right;\">\n",
       "      <th></th>\n",
       "      <th>t_dat</th>\n",
       "      <th>customer_id</th>\n",
       "      <th>article_id</th>\n",
       "      <th>price</th>\n",
       "      <th>sales_channel_id</th>\n",
       "    </tr>\n",
       "  </thead>\n",
       "  <tbody>\n",
       "    <tr>\n",
       "      <th>16118327</th>\n",
       "      <td>2019-09-01</td>\n",
       "      <td>02dd164d87472e7311cd12ea8df993b4a084ad528ed4af...</td>\n",
       "      <td>552716001</td>\n",
       "      <td>0.033881</td>\n",
       "      <td>2</td>\n",
       "    </tr>\n",
       "    <tr>\n",
       "      <th>16118467</th>\n",
       "      <td>2019-09-01</td>\n",
       "      <td>046c9b461a6f7a92512c73080f9dd85980e2e421a49f11...</td>\n",
       "      <td>562245046</td>\n",
       "      <td>0.033881</td>\n",
       "      <td>2</td>\n",
       "    </tr>\n",
       "    <tr>\n",
       "      <th>16118468</th>\n",
       "      <td>2019-09-01</td>\n",
       "      <td>046c9b461a6f7a92512c73080f9dd85980e2e421a49f11...</td>\n",
       "      <td>562245046</td>\n",
       "      <td>0.033881</td>\n",
       "      <td>2</td>\n",
       "    </tr>\n",
       "    <tr>\n",
       "      <th>16118668</th>\n",
       "      <td>2019-09-01</td>\n",
       "      <td>06207e084340d4a79aab1bfa0e5b5a63d9b7e89e665112...</td>\n",
       "      <td>160442043</td>\n",
       "      <td>0.013542</td>\n",
       "      <td>1</td>\n",
       "    </tr>\n",
       "    <tr>\n",
       "      <th>16119188</th>\n",
       "      <td>2019-09-01</td>\n",
       "      <td>0af4ebb4b23fc037e593c0e9a33cf53fc0ee37dd6ce35c...</td>\n",
       "      <td>711053007</td>\n",
       "      <td>0.013542</td>\n",
       "      <td>1</td>\n",
       "    </tr>\n",
       "    <tr>\n",
       "      <th>...</th>\n",
       "      <td>...</td>\n",
       "      <td>...</td>\n",
       "      <td>...</td>\n",
       "      <td>...</td>\n",
       "      <td>...</td>\n",
       "    </tr>\n",
       "    <tr>\n",
       "      <th>31788300</th>\n",
       "      <td>2020-09-22</td>\n",
       "      <td>ffc2e7c210e3ea602e6d229116773cc0588c929f8cc70b...</td>\n",
       "      <td>858856002</td>\n",
       "      <td>0.042356</td>\n",
       "      <td>1</td>\n",
       "    </tr>\n",
       "    <tr>\n",
       "      <th>31788319</th>\n",
       "      <td>2020-09-22</td>\n",
       "      <td>fff2282977442e327b45d8c89afde25617d00124d0f999...</td>\n",
       "      <td>929511001</td>\n",
       "      <td>0.059305</td>\n",
       "      <td>2</td>\n",
       "    </tr>\n",
       "    <tr>\n",
       "      <th>31788320</th>\n",
       "      <td>2020-09-22</td>\n",
       "      <td>fff2282977442e327b45d8c89afde25617d00124d0f999...</td>\n",
       "      <td>891322004</td>\n",
       "      <td>0.042356</td>\n",
       "      <td>2</td>\n",
       "    </tr>\n",
       "    <tr>\n",
       "      <th>31788322</th>\n",
       "      <td>2020-09-22</td>\n",
       "      <td>fff4d3a8b1f3b60af93e78c30a7cb4cf75edaf2590d3e5...</td>\n",
       "      <td>833459002</td>\n",
       "      <td>0.006763</td>\n",
       "      <td>1</td>\n",
       "    </tr>\n",
       "    <tr>\n",
       "      <th>31788323</th>\n",
       "      <td>2020-09-22</td>\n",
       "      <td>fffef3b6b73545df065b521e19f64bf6fe93bfd450ab20...</td>\n",
       "      <td>898573003</td>\n",
       "      <td>0.033881</td>\n",
       "      <td>2</td>\n",
       "    </tr>\n",
       "  </tbody>\n",
       "</table>\n",
       "<p>278334 rows × 5 columns</p>\n",
       "</div>"
      ],
      "text/plain": [
       "              t_dat                                        customer_id  \\\n",
       "16118327 2019-09-01  02dd164d87472e7311cd12ea8df993b4a084ad528ed4af...   \n",
       "16118467 2019-09-01  046c9b461a6f7a92512c73080f9dd85980e2e421a49f11...   \n",
       "16118468 2019-09-01  046c9b461a6f7a92512c73080f9dd85980e2e421a49f11...   \n",
       "16118668 2019-09-01  06207e084340d4a79aab1bfa0e5b5a63d9b7e89e665112...   \n",
       "16119188 2019-09-01  0af4ebb4b23fc037e593c0e9a33cf53fc0ee37dd6ce35c...   \n",
       "...             ...                                                ...   \n",
       "31788300 2020-09-22  ffc2e7c210e3ea602e6d229116773cc0588c929f8cc70b...   \n",
       "31788319 2020-09-22  fff2282977442e327b45d8c89afde25617d00124d0f999...   \n",
       "31788320 2020-09-22  fff2282977442e327b45d8c89afde25617d00124d0f999...   \n",
       "31788322 2020-09-22  fff4d3a8b1f3b60af93e78c30a7cb4cf75edaf2590d3e5...   \n",
       "31788323 2020-09-22  fffef3b6b73545df065b521e19f64bf6fe93bfd450ab20...   \n",
       "\n",
       "          article_id     price  sales_channel_id  \n",
       "16118327   552716001  0.033881                 2  \n",
       "16118467   562245046  0.033881                 2  \n",
       "16118468   562245046  0.033881                 2  \n",
       "16118668   160442043  0.013542                 1  \n",
       "16119188   711053007  0.013542                 1  \n",
       "...              ...       ...               ...  \n",
       "31788300   858856002  0.042356                 1  \n",
       "31788319   929511001  0.059305                 2  \n",
       "31788320   891322004  0.042356                 2  \n",
       "31788322   833459002  0.006763                 1  \n",
       "31788323   898573003  0.033881                 2  \n",
       "\n",
       "[278334 rows x 5 columns]"
      ]
     },
     "execution_count": 2,
     "metadata": {},
     "output_type": "execute_result"
    }
   ],
   "source": [
    "### Start Here\n",
    "\n",
    "filehandler = open(\"transactions_6mth.pkl\", \"rb\")\n",
    "transactions_6mth = pickle.load(filehandler)\n",
    "filehandler.close()\n",
    "transactions_6mth"
   ]
  },
  {
   "cell_type": "code",
   "execution_count": 3,
   "id": "19b9f795",
   "metadata": {},
   "outputs": [],
   "source": [
    "test = transactions_6mth.loc[transactions_6mth.t_dat >= '2020-09-16',:]\n",
    "train = transactions_6mth.loc[transactions_6mth.t_dat < '2020-09-16',:]"
   ]
  },
  {
   "cell_type": "code",
   "execution_count": 40,
   "id": "f1afb1ee",
   "metadata": {},
   "outputs": [
    {
     "name": "stdout",
     "output_type": "stream",
     "text": [
      "6185\n",
      "6206\n",
      "6206\n"
     ]
    }
   ],
   "source": [
    "print(train.article_id.nunique())\n",
    "print(test.article_id.nunique())\n",
    "print(transactions_6mth.article_id.nunique())"
   ]
  },
  {
   "cell_type": "markdown",
   "id": "f3747afb",
   "metadata": {},
   "source": [
    "# Data Prep"
   ]
  },
  {
   "cell_type": "code",
   "execution_count": 5,
   "id": "0bd96d20",
   "metadata": {},
   "outputs": [
    {
     "name": "stderr",
     "output_type": "stream",
     "text": [
      "C:\\Users\\Blake\\AppData\\Local\\Temp/ipykernel_9540/3202145238.py:16: SettingWithCopyWarning: \n",
      "A value is trying to be set on a copy of a slice from a DataFrame.\n",
      "Try using .loc[row_indexer,col_indexer] = value instead\n",
      "\n",
      "See the caveats in the documentation: https://pandas.pydata.org/pandas-docs/stable/user_guide/indexing.html#returning-a-view-versus-a-copy\n",
      "  train['rating'] = list(np.full(len(train), 1))\n"
     ]
    },
    {
     "data": {
      "text/html": [
       "<div>\n",
       "<style scoped>\n",
       "    .dataframe tbody tr th:only-of-type {\n",
       "        vertical-align: middle;\n",
       "    }\n",
       "\n",
       "    .dataframe tbody tr th {\n",
       "        vertical-align: top;\n",
       "    }\n",
       "\n",
       "    .dataframe thead th {\n",
       "        text-align: right;\n",
       "    }\n",
       "</style>\n",
       "<table border=\"1\" class=\"dataframe\">\n",
       "  <thead>\n",
       "    <tr style=\"text-align: right;\">\n",
       "      <th></th>\n",
       "      <th>customer</th>\n",
       "      <th>item</th>\n",
       "      <th>rating</th>\n",
       "    </tr>\n",
       "  </thead>\n",
       "  <tbody>\n",
       "    <tr>\n",
       "      <th>29794828</th>\n",
       "      <td>0</td>\n",
       "      <td>3817</td>\n",
       "      <td>1</td>\n",
       "    </tr>\n",
       "    <tr>\n",
       "      <th>31140487</th>\n",
       "      <td>0</td>\n",
       "      <td>5156</td>\n",
       "      <td>1</td>\n",
       "    </tr>\n",
       "    <tr>\n",
       "      <th>30180376</th>\n",
       "      <td>0</td>\n",
       "      <td>4502</td>\n",
       "      <td>1</td>\n",
       "    </tr>\n",
       "    <tr>\n",
       "      <th>31412223</th>\n",
       "      <td>0</td>\n",
       "      <td>4103</td>\n",
       "      <td>1</td>\n",
       "    </tr>\n",
       "    <tr>\n",
       "      <th>31140486</th>\n",
       "      <td>0</td>\n",
       "      <td>5055</td>\n",
       "      <td>1</td>\n",
       "    </tr>\n",
       "  </tbody>\n",
       "</table>\n",
       "</div>"
      ],
      "text/plain": [
       "          customer  item  rating\n",
       "29794828         0  3817       1\n",
       "31140487         0  5156       1\n",
       "30180376         0  4502       1\n",
       "31412223         0  4103       1\n",
       "31140486         0  5055       1"
      ]
     },
     "metadata": {},
     "output_type": "display_data"
    }
   ],
   "source": [
    "customerIds = train.customer_id.unique()\n",
    "customerIds.sort()\n",
    "articleIds = train.article_id.unique()\n",
    "articleIds.sort()\n",
    "\n",
    "m = customerIds.size\n",
    "n = articleIds.size\n",
    "numTrans = len(train)\n",
    "\n",
    "customerIds_to_customerIdsIDX = dict(zip(customerIds, range(0, customerIds.size )))\n",
    "customerIDX_to_customerId = dict(zip(range(0, customerIds.size), customerIds))\n",
    "\n",
    "itemId_to_itemIDX = dict(zip(articleIds, range(0, articleIds.size)))\n",
    "itemIDX_to_itemId = dict(zip(range(0, articleIds.size), articleIds))\n",
    "\n",
    "train['rating'] = list(np.full(len(train), 1))\n",
    "\n",
    "df = pd.concat([train['customer_id'].map(customerIds_to_customerIdsIDX), train['article_id'].map(itemId_to_itemIDX), train['rating']], axis=1)\n",
    "df.columns = ['customer', 'item', 'rating']\n",
    "df.sort_values(by = 'customer', inplace = True)\n",
    "\n",
    "\n",
    "display(df.head())"
   ]
  },
  {
   "cell_type": "code",
   "execution_count": 6,
   "id": "0407440e",
   "metadata": {},
   "outputs": [],
   "source": [
    "#df = df.loc[df.customer < 100,:]"
   ]
  },
  {
   "cell_type": "code",
   "execution_count": 7,
   "id": "5b02d895",
   "metadata": {},
   "outputs": [
    {
     "data": {
      "text/html": [
       "<div>\n",
       "<style scoped>\n",
       "    .dataframe tbody tr th:only-of-type {\n",
       "        vertical-align: middle;\n",
       "    }\n",
       "\n",
       "    .dataframe tbody tr th {\n",
       "        vertical-align: top;\n",
       "    }\n",
       "\n",
       "    .dataframe thead th {\n",
       "        text-align: right;\n",
       "    }\n",
       "</style>\n",
       "<table border=\"1\" class=\"dataframe\">\n",
       "  <thead>\n",
       "    <tr style=\"text-align: right;\">\n",
       "      <th></th>\n",
       "      <th>customer</th>\n",
       "      <th>item</th>\n",
       "      <th>rating</th>\n",
       "    </tr>\n",
       "  </thead>\n",
       "  <tbody>\n",
       "    <tr>\n",
       "      <th>29794828</th>\n",
       "      <td>0</td>\n",
       "      <td>3817</td>\n",
       "      <td>1</td>\n",
       "    </tr>\n",
       "    <tr>\n",
       "      <th>31140487</th>\n",
       "      <td>0</td>\n",
       "      <td>5156</td>\n",
       "      <td>1</td>\n",
       "    </tr>\n",
       "    <tr>\n",
       "      <th>30180376</th>\n",
       "      <td>0</td>\n",
       "      <td>4502</td>\n",
       "      <td>1</td>\n",
       "    </tr>\n",
       "    <tr>\n",
       "      <th>31412223</th>\n",
       "      <td>0</td>\n",
       "      <td>4103</td>\n",
       "      <td>1</td>\n",
       "    </tr>\n",
       "    <tr>\n",
       "      <th>31140486</th>\n",
       "      <td>0</td>\n",
       "      <td>5055</td>\n",
       "      <td>1</td>\n",
       "    </tr>\n",
       "    <tr>\n",
       "      <th>...</th>\n",
       "      <td>...</td>\n",
       "      <td>...</td>\n",
       "      <td>...</td>\n",
       "    </tr>\n",
       "    <tr>\n",
       "      <th>28223529</th>\n",
       "      <td>11742</td>\n",
       "      <td>2550</td>\n",
       "      <td>1</td>\n",
       "    </tr>\n",
       "    <tr>\n",
       "      <th>28516682</th>\n",
       "      <td>11742</td>\n",
       "      <td>1927</td>\n",
       "      <td>1</td>\n",
       "    </tr>\n",
       "    <tr>\n",
       "      <th>28516683</th>\n",
       "      <td>11742</td>\n",
       "      <td>4425</td>\n",
       "      <td>1</td>\n",
       "    </tr>\n",
       "    <tr>\n",
       "      <th>30916081</th>\n",
       "      <td>11742</td>\n",
       "      <td>2680</td>\n",
       "      <td>1</td>\n",
       "    </tr>\n",
       "    <tr>\n",
       "      <th>31452489</th>\n",
       "      <td>11742</td>\n",
       "      <td>1248</td>\n",
       "      <td>1</td>\n",
       "    </tr>\n",
       "  </tbody>\n",
       "</table>\n",
       "<p>242174 rows × 3 columns</p>\n",
       "</div>"
      ],
      "text/plain": [
       "          customer  item  rating\n",
       "29794828         0  3817       1\n",
       "31140487         0  5156       1\n",
       "30180376         0  4502       1\n",
       "31412223         0  4103       1\n",
       "31140486         0  5055       1\n",
       "...            ...   ...     ...\n",
       "28223529     11742  2550       1\n",
       "28516682     11742  1927       1\n",
       "28516683     11742  4425       1\n",
       "30916081     11742  2680       1\n",
       "31452489     11742  1248       1\n",
       "\n",
       "[242174 rows x 3 columns]"
      ]
     },
     "execution_count": 7,
     "metadata": {},
     "output_type": "execute_result"
    }
   ],
   "source": [
    "df_trans_pic = pd.concat([train['t_dat'], train['customer_id'].map(customerIds_to_customerIdsIDX), train['article_id'].map(itemId_to_itemIDX)], axis=1)\n",
    "df_trans_pic.columns = ['date','customer', 'item']\n",
    "df_trans_pic"
   ]
  },
  {
   "cell_type": "markdown",
   "id": "f03c1cee",
   "metadata": {},
   "source": [
    "# Create ratings matrix"
   ]
  },
  {
   "cell_type": "code",
   "execution_count": 8,
   "id": "08fba3cb",
   "metadata": {},
   "outputs": [],
   "source": [
    "R = sp.csr_matrix((df.rating, (df.customer, df.item)))\n",
    "R_dok = R.todok()"
   ]
  },
  {
   "cell_type": "code",
   "execution_count": 9,
   "id": "6b7886e9",
   "metadata": {},
   "outputs": [
    {
     "name": "stdout",
     "output_type": "stream",
     "text": [
      "There are 11743 users, 6185 items and 194599 ratings.\n"
     ]
    }
   ],
   "source": [
    "m = R.shape[0]\n",
    "n = R.shape[1]\n",
    "numRatings = R.count_nonzero()\n",
    "\n",
    "print(\"There are\", m, \"users,\", n, \"items and\", numRatings, \"ratings.\")"
   ]
  },
  {
   "cell_type": "code",
   "execution_count": 10,
   "id": "faa099d2",
   "metadata": {},
   "outputs": [],
   "source": [
    "R_copy = R.copy()\n",
    "user_cnts = (R != 0).sum(axis=1).A1\n",
    "user_norm = np.sqrt(R_copy.power(2).sum(1)).A1\n",
    "\n",
    "# set scaling of rows with 0 zero to 0\n",
    "zero_index = user_norm == 0\n",
    "user_norm[zero_index] = 1\n",
    "user_scales = 1 / user_norm\n",
    "user_scales[zero_index] = 0\n",
    "\n",
    "R_copy.data = R_copy.data * np.repeat(user_scales, user_cnts)"
   ]
  },
  {
   "cell_type": "code",
   "execution_count": 11,
   "id": "716638cc",
   "metadata": {},
   "outputs": [],
   "source": [
    "def compute_pairwise_user_similarity(u_id, v_id):\n",
    "    u = R[u_id,:].copy()\n",
    "    v = R[v_id,:].copy()\n",
    "    \n",
    "    numerator = u.dot(v.T)\n",
    "    denominator = norm(u)*norm(v)\n",
    "    #print(u)\n",
    "    #print(norm(v))\n",
    "    #print(v)\n",
    "    \n",
    "    if denominator == 0:\n",
    "        similarity = 0.;\n",
    "    else:\n",
    "        similarity = (numerator/denominator).A.item()\n",
    "    \n",
    "    return similarity"
   ]
  },
  {
   "cell_type": "code",
   "execution_count": 12,
   "id": "74ad2179",
   "metadata": {},
   "outputs": [],
   "source": [
    "def compute_user_similarities(u_id):\n",
    "    uU = np.empty((m,))\n",
    "        \n",
    "    uU = (R_copy.dot(R_copy[u_id,:].T)).A.flatten()\n",
    "    \n",
    "    ##############################\n",
    "    ## Mat.dot(Vec.T) is actually same as Mat @ Vec.T\n",
    "    ##############################\n",
    "    \n",
    "    \n",
    "    # YOUR CODE HERE\n",
    "    #for i in range(uU.size):\n",
    "    #    uU[i] = compute_pairwise_user_similarity(u_id, i)\n",
    "    \n",
    "    #raise NotImplementedError()\n",
    "    \n",
    "    return uU"
   ]
  },
  {
   "cell_type": "code",
   "execution_count": 13,
   "id": "7ce71cb8",
   "metadata": {},
   "outputs": [],
   "source": [
    "def create_sim_list(u_id):\n",
    "    uU = compute_user_similarities(u_id)\n",
    "    uU_copy = uU.copy() ## so that we can modify it, but also keep the original\n",
    "    \n",
    "    # YOUR CODE HERE\n",
    "    uU_copy = np.delete(uU_copy, u_id)\n",
    "\n",
    "    # Sort array    \n",
    "    sort_order = np.argsort(uU_copy)[::-1]\n",
    "    uU_copy = uU_copy[sort_order]\n",
    "\n",
    "    users_sorted = list(df.customer.unique())\n",
    "    users_sorted = np.delete(users_sorted, u_id)\n",
    "    users_sorted = users_sorted[sort_order]\n",
    "    \n",
    "    return users_sorted"
   ]
  },
  {
   "cell_type": "code",
   "execution_count": 14,
   "id": "74667957",
   "metadata": {},
   "outputs": [],
   "source": [
    "\n",
    "def get_prediction(uU, users_sorted, i_id, n_neighbor):\n",
    "    nh_user = []\n",
    "    nh_sim = []\n",
    "    \n",
    "    i = 0\n",
    "    while len(nh_sim) < n_neighbor:\n",
    "        user_i = users_sorted[i]\n",
    "        #print(nh_sim)\n",
    "        #print(user_i)\n",
    "    \t#uU[user_i])\n",
    "        if (user_i, i_id) in R_dok:\n",
    "            nh_sim.append(uU[i])\n",
    "            nh_user.append(user_i)\n",
    "        i += 1\n",
    "        #print(i)\n",
    "        if i == len(uU):\n",
    "            break\n",
    "\n",
    "    prediction = sum(nh_sim)\n",
    "    \n",
    "    return prediction"
   ]
  },
  {
   "cell_type": "code",
   "execution_count": 15,
   "id": "1460e43d",
   "metadata": {},
   "outputs": [],
   "source": [
    "def get_recommendations(u_id, n_neighbor, n_item_recommend):\n",
    "    # get user similarities\n",
    "    uU = compute_user_similarities(u_id)\n",
    "    uU_copy = uU.copy() ## so that we can modify it, but also keep the original\n",
    "\n",
    "    # Sort arrays by highest sim\n",
    "    sort_order = np.argsort(uU_copy)[::-1]\n",
    "    uU_copy = uU_copy[sort_order]\n",
    "    \n",
    "    # delete the user from the sim list\n",
    "    uU_copy = np.delete(uU_copy, 0)\n",
    "\n",
    "    users_sorted = np.array(df.customer.unique())\n",
    "    users_sorted = users_sorted[sort_order]\n",
    "    users_sorted = np.delete(users_sorted, 0)\n",
    "    \n",
    "    item_arr = np.array(df.item.unique())\n",
    "    pred_arr = np.zeros(len(item_arr))\n",
    "    k = n_neighbor\n",
    "    i = 0\n",
    "    for i_id in item_arr:\n",
    "        #print(u_id, i_id)\n",
    "        prediction = get_prediction(uU_copy, users_sorted, i_id, n_neighbor)\n",
    "        pred_arr[i] = prediction\n",
    "        i += 1\n",
    "    \n",
    "    item_sort_order = np.argsort(pred_arr)[::-1]\n",
    "    item_arr = item_arr[item_sort_order][0:n_item_recommend]\n",
    "    \n",
    "    return item_arr"
   ]
  },
  {
   "cell_type": "code",
   "execution_count": null,
   "id": "4aa8f2d0",
   "metadata": {},
   "outputs": [],
   "source": []
  },
  {
   "cell_type": "code",
   "execution_count": 34,
   "id": "29ec2ef6",
   "metadata": {},
   "outputs": [
    {
     "data": {
      "text/plain": [
       "3191.5678844"
      ]
     },
     "execution_count": 34,
     "metadata": {},
     "output_type": "execute_result"
    }
   ],
   "source": [
    "start = time.perf_counter()\n",
    "\n",
    "rec_dict = {}\n",
    "\n",
    "customer_list = df.customer.unique()[500:700]\n",
    "\n",
    "for u_id in customer_list:\n",
    "    recs = get_recommendations(u_id, n_neighbor = 5, n_item_recommend = 12)\n",
    "    rec_dict[u_id] = recs\n",
    "\n",
    "end = time.perf_counter()\n",
    "end - start    \n",
    "    "
   ]
  },
  {
   "cell_type": "code",
   "execution_count": null,
   "id": "034537eb",
   "metadata": {},
   "outputs": [],
   "source": []
  },
  {
   "cell_type": "code",
   "execution_count": null,
   "id": "9762a6ca",
   "metadata": {},
   "outputs": [],
   "source": []
  },
  {
   "cell_type": "code",
   "execution_count": 23,
   "id": "cfb4941c",
   "metadata": {},
   "outputs": [],
   "source": [
    "#recs = get_recommendations(1, n_neighbor = 5, n_item_recommend = 12)"
   ]
  },
  {
   "cell_type": "code",
   "execution_count": 24,
   "id": "44b7bc47",
   "metadata": {},
   "outputs": [
    {
     "data": {
      "text/plain": [
       "{0: array([1174, 2412, 4290, 4339, 3694, 3841, 5199, 4296, 5955, 3202, 5971,\n",
       "        4916], dtype=int64),\n",
       " 1: array([ 881, 1290, 1366, 1797, 4879, 1371, 1300,  413, 1716, 4189,  766,\n",
       "         839], dtype=int64),\n",
       " 2: array([2045, 2047,  308,  148, 3545, 2053, 1047,  967, 1146, 3242, 1291,\n",
       "        2046], dtype=int64),\n",
       " 3: array([ 398, 4706, 2804, 1047, 1211,  144, 2445, 5667, 2961, 5785, 2045,\n",
       "        1003], dtype=int64),\n",
       " 4: array([ 881, 1290, 1448, 2997, 4189,  413,  766,  839, 1716, 1300, 2182,\n",
       "        2186], dtype=int64),\n",
       " 5: array([ 881, 1290, 4919, 2997, 2548, 3482, 2107, 4106, 4641, 1938,  331,\n",
       "        4097], dtype=int64),\n",
       " 6: array([ 176, 2515, 2735, 3385, 5462, 3892, 1163, 3612, 4996, 4999,  767,\n",
       "        4814], dtype=int64),\n",
       " 7: array([1508, 5604, 4351, 1098, 2250, 4974, 3483, 5665,  454, 5109, 3499,\n",
       "        2293], dtype=int64),\n",
       " 8: array([1047, 2045, 1705, 5345, 1532,  148, 4467,  967, 5578, 1922, 4443,\n",
       "        5604], dtype=int64),\n",
       " 9: array([1461,  785, 3007, 1047, 1705, 5345, 6086,  269, 5138, 5843, 1532,\n",
       "        4003], dtype=int64),\n",
       " 10: array([1922, 1921, 3483,  766, 1986, 4814, 5665, 2514, 3045, 2624, 1929,\n",
       "        2803], dtype=int64),\n",
       " 11: array([1700, 1290, 1508, 1704, 1293,  144, 1291, 1271, 1703,   90, 2264,\n",
       "        3592], dtype=int64),\n",
       " 12: array([1461, 1460, 1462, 2415,  785, 2021, 1705, 4165,  350, 1467, 3372,\n",
       "        1464], dtype=int64),\n",
       " 13: array([2047, 1401, 2615, 2295,  291, 1796,  296, 2618, 2627, 2049, 3300,\n",
       "        4494], dtype=int64),\n",
       " 14: array([5665,  262, 4098, 1391, 2248, 1100, 3122, 2107, 4097, 3932, 3096,\n",
       "        5216], dtype=int64),\n",
       " 15: array([ 255, 1938, 1937, 1507, 1138, 3044, 5297, 1557, 1679,    3,   34,\n",
       "         144], dtype=int64),\n",
       " 16: array([4524,  282, 5874,  663, 4706, 2399, 2961, 6014, 2617,  371, 2195,\n",
       "        1635], dtype=int64),\n",
       " 17: array([ 100, 2887,  101,  709, 1743,  886,  831, 5604, 1441, 1076,  309,\n",
       "        3119], dtype=int64),\n",
       " 18: array([ 370, 2834,  148,  967, 2047,  759, 1078, 1743, 3485, 3578, 4805,\n",
       "        1290], dtype=int64),\n",
       " 19: array([1047,  785,  967, 1705, 5578, 4165, 2415,  350, 2021, 1461, 3045,\n",
       "         736], dtype=int64),\n",
       " 20: array([ 144,  881, 4041, 1938, 1922, 5415, 5874, 3182, 2418,  331,  528,\n",
       "        1700], dtype=int64),\n",
       " 21: array([ 148, 5665,  967, 5449, 1391, 2248, 1922, 4098, 1456, 3932, 3096,\n",
       "        4097], dtype=int64),\n",
       " 22: array([2045, 2047, 1047, 2046,  967,  160,  148, 3545, 2053,  308, 2248,\n",
       "        1919], dtype=int64),\n",
       " 23: array([  51,  146, 1796,   39,  654,  653, 3724,  145,   49, 2330,  755,\n",
       "        1084], dtype=int64),\n",
       " 24: array([2047, 2049,  296, 3300, 2627, 4494,  291, 1401,  299, 2615, 2618,\n",
       "        2295], dtype=int64),\n",
       " 25: array([1460, 1462, 1461,  488, 2248, 1464, 1180,    9, 4592, 5541,  617,\n",
       "        1750], dtype=int64),\n",
       " 26: array([4706, 5576,  831, 4708, 4472, 2804, 1211,  398, 2248, 3122,    9,\n",
       "        3091], dtype=int64),\n",
       " 27: array([5604, 5665, 1922, 2047,  283, 3356,  831, 3939,    1,  709, 1921,\n",
       "        1508], dtype=int64),\n",
       " 28: array([1463, 1750, 2888, 1656, 1462, 4443, 1460, 5415, 1651, 2150, 1095,\n",
       "        1094], dtype=int64),\n",
       " 29: array([ 881, 1290, 5414, 1461, 4443, 3483, 1986,  435, 1260,  527, 1467,\n",
       "        1991], dtype=int64),\n",
       " 30: array([2045, 2046, 1047, 2047,  148,  160, 2597, 5579, 5578, 6073, 2485,\n",
       "         186], dtype=int64),\n",
       " 31: array([ 148, 1290,  967, 1038, 1817, 2972, 2834,  881, 1321, 1743, 5752,\n",
       "         247], dtype=int64),\n",
       " 32: array([  51, 3448, 5276, 1016, 2941,  477, 2218,  919, 4449, 4448,  989,\n",
       "         475], dtype=int64),\n",
       " 33: array([ 398, 1291, 3242, 4275, 2804, 1016, 1912,  831,  242, 1938,  241,\n",
       "        1211], dtype=int64),\n",
       " 34: array([1047,  398, 2445, 1852,  289, 2045, 4494,  291,  287, 3161, 1003,\n",
       "         265], dtype=int64),\n",
       " 35: array([2047,  759, 1981, 5895, 1156,  752,  231, 2212,  169, 3241, 4870,\n",
       "        4477], dtype=int64),\n",
       " 36: array([ 762,  755, 1084, 2330,   49,  145,  146, 3724,  653,  654,   39,\n",
       "        1796], dtype=int64),\n",
       " 37: array([4708, 1400, 4052, 4542, 5000, 4934, 4275, 4472, 1290, 1391, 2248,\n",
       "        2972], dtype=int64),\n",
       " 38: array([4443, 1986, 4467, 5874, 4524, 5414, 1750, 3141, 5888, 3180, 1549,\n",
       "        1991], dtype=int64),\n",
       " 39: array([ 176, 2515, 2735, 3385, 5462, 3892, 1163, 3612, 4996, 4999,  767,\n",
       "        4814], dtype=int64),\n",
       " 40: array([5414, 3499, 4443,  663, 2150, 3498, 1463, 5415, 2843, 1750, 2888,\n",
       "         374], dtype=int64),\n",
       " 41: array([5194, 1153,  839, 2480, 5041,  587, 3500, 4806, 6119, 5039, 1456,\n",
       "        5975], dtype=int64),\n",
       " 42: array([1290,  148,  881,  967, 2045, 2248, 4098, 1572, 5449,  410, 2107,\n",
       "        2047], dtype=int64),\n",
       " 43: array([ 746,  759, 2047, 1291, 1293, 2404, 2500, 3455, 1475, 2984, 4716,\n",
       "        3200], dtype=int64),\n",
       " 44: array([1700, 5665, 1291, 1704,  144,  624,  510,  769, 4121, 1835, 2239,\n",
       "        4427], dtype=int64),\n",
       " 45: array([1291, 1508, 1704, 1700,  255, 5604, 3592,  746, 1293, 1271, 1581,\n",
       "        2264], dtype=int64),\n",
       " 46: array([2291, 1258, 1850, 1327, 1364, 3356, 3860, 3227, 4974, 4351, 3853,\n",
       "        4672], dtype=int64),\n",
       " 47: array([ 100,  101,  831,  709, 1933,  267, 5220, 4936, 1576,  785, 1743,\n",
       "        2877], dtype=int64),\n",
       " 48: array([1004, 1024, 1101, 1205, 1010, 1003,  513,  510, 1210, 2402, 4587,\n",
       "         330], dtype=int64),\n",
       " 49: array([3499,  148, 5666, 1456, 1893, 5665, 1457, 5216, 3639, 5042, 4871,\n",
       "        5975], dtype=int64),\n",
       " 50: array([1460, 1461, 1462, 1467, 1750, 1464, 1321, 2843, 3372, 4443,  663,\n",
       "        3498], dtype=int64),\n",
       " 51: array([1461, 2972, 4235, 1290,  148, 4716, 1391, 2248,  785, 4097,  940,\n",
       "         370], dtype=int64),\n",
       " 52: array([2045, 2047, 1047,  308, 3545, 2053,  967, 5578, 3482,  148,  160,\n",
       "        2046], dtype=int64),\n",
       " 53: array([1796, 2295, 2627, 2615,  296, 2618, 3300,  299, 4494,  291, 1401,\n",
       "        2049], dtype=int64),\n",
       " 54: array([ 101,  657, 1004, 1010,  100,  886,  964, 5303, 1024, 1205, 1101,\n",
       "        1003], dtype=int64),\n",
       " 55: array([1290,  881,  148,  262, 5665, 5216, 4098, 1461, 2248, 2107,  484,\n",
       "         964], dtype=int64),\n",
       " 56: array([1010,  398, 1003, 4275, 4885,  831, 2804, 1009, 1004, 1211,  993,\n",
       "         830], dtype=int64),\n",
       " 57: array([ 320,  398,  513,  510, 1010,  964, 1004, 1003, 1101, 5830, 4098,\n",
       "        4341], dtype=int64),\n",
       " 58: array([2293, 5874, 1463, 5415, 2150, 3964, 4307, 4970, 1397,  124, 4852,\n",
       "        1950], dtype=int64),\n",
       " 59: array([ 881,  887, 1290, 1921, 2186, 2182, 4926, 1638, 2738, 1689, 2651,\n",
       "         606], dtype=int64),\n",
       " 60: array([1797,  123, 4323, 1149, 3020,  303, 2578, 1147,  882,  881,  103,\n",
       "        1148], dtype=int64),\n",
       " 61: array([ 831, 1464, 5604,  101, 4275, 4524, 1163,  663,  144, 1938,  398,\n",
       "        5220], dtype=int64),\n",
       " 62: array([5415, 4041,  100,  831, 2223, 2535, 5874, 1321,  709, 1463, 5414,\n",
       "        4443], dtype=int64),\n",
       " 63: array([1700, 1291, 1704,  255, 3278,  144, 1938, 1707,  707,  697, 1507,\n",
       "          20], dtype=int64),\n",
       " 64: array([2047, 2045, 1796, 2445, 4494,  289, 5220, 2961,  461,  291,  339,\n",
       "         265], dtype=int64),\n",
       " 65: array([ 785, 1461, 2021, 1705,  350, 2415, 4165, 1986, 3483, 3356,  967,\n",
       "        5414], dtype=int64),\n",
       " 66: array([1700, 1704, 1291, 1321, 1290,  255, 3278, 1711, 1709, 1298,  702,\n",
       "        1296], dtype=int64),\n",
       " 67: array([5874, 4524, 3194, 1887, 3483, 5875, 1886, 5829, 1461, 4041, 5415,\n",
       "        2535], dtype=int64),\n",
       " 68: array([1460, 1462, 1461, 2248,  488,  410, 1467, 4098, 1464, 2355, 5328,\n",
       "        1222], dtype=int64),\n",
       " 69: array([ 881, 1462,  617, 2997, 1986, 1750, 4467, 1991, 1987, 2293, 2045,\n",
       "        4919], dtype=int64),\n",
       " 70: array([1047, 4235, 1922, 2045, 2972,  780,  484, 2046, 2248, 1402, 1161,\n",
       "        3240], dtype=int64),\n",
       " 71: array([ 881, 1290,  766,  839, 1300,  413, 1716, 4189, 2107, 1649,  331,\n",
       "        4300], dtype=int64),\n",
       " 72: array([ 510, 1024, 5657,  527, 1260,  435, 4341, 1649,  881,  513, 1010,\n",
       "         457], dtype=int64),\n",
       " 73: array([1047,  967, 2045, 5578, 1532, 1705, 5345, 3483, 1986, 4244,   16,\n",
       "         160], dtype=int64),\n",
       " 74: array([5665,  262,  510, 3641, 1922, 4098, 1456,  148, 3639, 5666, 5216,\n",
       "        1457], dtype=int64),\n",
       " 75: array([1460, 1461, 1462,  617, 1397, 5415, 2259, 2342, 1507, 5414, 1464,\n",
       "         830], dtype=int64),\n",
       " 76: array([1460, 1464, 1461, 1462, 2047,    9, 2877, 1224, 2834,  410,   47,\n",
       "         160], dtype=int64),\n",
       " 77: array([ 663, 2399, 2961, 6014, 2617,  371, 2195, 1635,  664,  283,  368,\n",
       "        4990], dtype=int64),\n",
       " 78: array([2045, 2047, 2046, 1047,  967, 1986, 3545,  308, 2053, 5414, 4443,\n",
       "        3483], dtype=int64),\n",
       " 79: array([1986, 4467,   51, 5414, 1991, 2595, 1463, 4443, 1462, 1750, 3499,\n",
       "         398], dtype=int64),\n",
       " 80: array([2107, 4300,  881, 2033, 4403,  249, 3133,  922, 1849, 3293,  150,\n",
       "        3053], dtype=int64),\n",
       " 81: array([1460,  327,  488, 1462,    9, 3034,  160, 1048, 1467, 1619, 2672,\n",
       "          95], dtype=int64),\n",
       " 82: array([2047, 2045,  746, 1461,  738, 2834, 1743, 3198, 1312, 4271, 3545,\n",
       "        2355], dtype=int64),\n",
       " 83: array([1461, 3087, 4235,  484, 2972, 3122, 3614, 3515, 2047, 4159,  223,\n",
       "        1754], dtype=int64),\n",
       " 84: array([ 282,  148,  144, 3608, 1884, 4890, 6013, 4524, 5800, 2229, 2878,\n",
       "        1548], dtype=int64),\n",
       " 85: array([ 160, 1048,   47,  410, 4138, 1464,  128, 1264,  664, 1224,    9,\n",
       "        4625], dtype=int64),\n",
       " 86: array([5874, 5415, 2535, 4041, 2223, 4524, 2581, 3568, 1805, 2108, 3573,\n",
       "        5941], dtype=int64),\n",
       " 87: array([2045, 1047, 2047,  398,   16, 1211,  967,  831, 1010, 2046, 2804,\n",
       "        5578], dtype=int64),\n",
       " 88: array([ 881, 1290, 2107,  887, 1464, 1716,  413, 1300,  766, 4189,  839,\n",
       "         409], dtype=int64),\n",
       " 89: array([ 370, 4098, 6085,  395, 3077, 3559, 2657, 1224, 5176, 5677, 2355,\n",
       "        1460], dtype=int64),\n",
       " 90: array([ 148,  967, 2597, 1047,  160, 2045, 5449, 5578, 1928, 6032,   16,\n",
       "        1919], dtype=int64),\n",
       " 91: array([2997, 1922, 2293, 2096, 3717, 2047, 3545, 2514, 1364, 4097, 1938,\n",
       "        2445], dtype=int64),\n",
       " 92: array([ 148, 5665,  262, 5216, 1100, 5604, 1817, 1456,  454, 2972, 2597,\n",
       "        3086], dtype=int64),\n",
       " 93: array([4708, 3911, 1379, 2539, 3985, 4984,  782, 4434, 4748, 3204, 3652,\n",
       "        2837], dtype=int64),\n",
       " 94: array([2293,  664, 1938,  144,  282, 5415, 4307, 4041, 2096,  255, 1488,\n",
       "        5303], dtype=int64),\n",
       " 95: array([ 148,  664,  282, 5303, 1938, 1937, 1475,   34,  255, 1555, 1213,\n",
       "        3128], dtype=int64),\n",
       " 96: array([ 350, 1461, 4919, 4688, 4165, 2415, 1705, 2021,  785, 5171, 1734,\n",
       "        3936], dtype=int64),\n",
       " 97: array([2047, 5604, 1460,  766, 3483, 2834, 1224,  664, 5849, 2045,  663,\n",
       "         276], dtype=int64),\n",
       " 98: array([ 964, 1855, 1101, 2890, 1418, 5604, 1078, 1572, 3356, 3529, 4311,\n",
       "         184], dtype=int64),\n",
       " 99: array([4098, 4235, 3122, 2972, 3939, 5668, 1047,  964, 1010, 2045,  370,\n",
       "        2890], dtype=int64)}"
      ]
     },
     "execution_count": 24,
     "metadata": {},
     "output_type": "execute_result"
    }
   ],
   "source": [
    "rec_dict"
   ]
  },
  {
   "cell_type": "code",
   "execution_count": null,
   "id": "29f5ca51",
   "metadata": {},
   "outputs": [],
   "source": [
    "# Save UU recommendations\n",
    "import pickle  \n",
    "filehandler = open(\"uu_dict.pkl\", 'wb') \n",
    "pickle.dump(rec_dict, filehandler)\n",
    "filehandler.close()"
   ]
  },
  {
   "cell_type": "code",
   "execution_count": 110,
   "id": "514c9167",
   "metadata": {},
   "outputs": [
    {
     "data": {
      "text/plain": [
       "dict"
      ]
     },
     "execution_count": 110,
     "metadata": {},
     "output_type": "execute_result"
    }
   ],
   "source": [
    "# Open UU recommendations\n",
    "filehandler = open(\"uu_dict.pkl\", \"rb\")\n",
    "output = pickle.load(filehandler)\n",
    "filehandler.close()\n"
   ]
  },
  {
   "cell_type": "markdown",
   "id": "4d86e41e",
   "metadata": {},
   "source": [
    "# Evaluate Recommendations"
   ]
  },
  {
   "cell_type": "markdown",
   "id": "042ce504",
   "metadata": {},
   "source": [
    "### Note: data needed to be evaluated in pieces due to computation"
   ]
  },
  {
   "cell_type": "code",
   "execution_count": 29,
   "id": "0848a88b",
   "metadata": {},
   "outputs": [],
   "source": [
    "def calc_cust_precision(u_id):\n",
    "    ground_truth = cust_orders[u_id]\n",
    "    hits_list = (np.isin(rec_dict[u_id], ground_truth))*1\n",
    "    ap = 0 ## average precision\n",
    "    hits = np.sum(hits_list)\n",
    "    relevant_n = len(ground_truth)\n",
    "\n",
    "    if (hits != 0):\n",
    "        for rank in range(1,len(hits_list)+1):\n",
    "            # update ap on hit items\n",
    "            hit = hits_list[rank-1]\n",
    "            if hit:\n",
    "                rank_hit_list = hits_list[0:rank]\n",
    "                prec_i = np.mean(rank_hit_list)\n",
    "                ap += prec_i  \n",
    "        ap /= (min(relevant_n, 12))\n",
    "    \n",
    "    return ap"
   ]
  },
  {
   "cell_type": "code",
   "execution_count": 30,
   "id": "730ba723",
   "metadata": {},
   "outputs": [
    {
     "data": {
      "text/html": [
       "<div>\n",
       "<style scoped>\n",
       "    .dataframe tbody tr th:only-of-type {\n",
       "        vertical-align: middle;\n",
       "    }\n",
       "\n",
       "    .dataframe tbody tr th {\n",
       "        vertical-align: top;\n",
       "    }\n",
       "\n",
       "    .dataframe thead th {\n",
       "        text-align: right;\n",
       "    }\n",
       "</style>\n",
       "<table border=\"1\" class=\"dataframe\">\n",
       "  <thead>\n",
       "    <tr style=\"text-align: right;\">\n",
       "      <th></th>\n",
       "      <th>customer</th>\n",
       "      <th>item</th>\n",
       "    </tr>\n",
       "  </thead>\n",
       "  <tbody>\n",
       "    <tr>\n",
       "      <th>31723329</th>\n",
       "      <td>1.0</td>\n",
       "      <td>1795.0</td>\n",
       "    </tr>\n",
       "    <tr>\n",
       "      <th>31723330</th>\n",
       "      <td>1.0</td>\n",
       "      <td>593.0</td>\n",
       "    </tr>\n",
       "  </tbody>\n",
       "</table>\n",
       "</div>"
      ],
      "text/plain": [
       "          customer    item\n",
       "31723329       1.0  1795.0\n",
       "31723330       1.0   593.0"
      ]
     },
     "metadata": {},
     "output_type": "display_data"
    }
   ],
   "source": [
    "test_df = pd.concat([test['customer_id'].map(customerIds_to_customerIdsIDX), test['article_id'].map(itemId_to_itemIDX)], axis=1)\n",
    "test_df.columns = ['customer', 'item']\n",
    "test_df.sort_values(by = 'customer', inplace = True)\n",
    "\n",
    "cust_orders = test_df.groupby(\"customer\")[\"item\"].unique()\n",
    "\n",
    "display(test_df.loc[test_df.customer == 1])"
   ]
  },
  {
   "cell_type": "code",
   "execution_count": 35,
   "id": "14ed2b75",
   "metadata": {},
   "outputs": [],
   "source": [
    "ap_u = 0.\n",
    "\n",
    "for u_id in customer_list:\n",
    "    ap_u += calc_cust_precision(u_id)\n",
    "mean_ap = ap_u / len(customer_list)       "
   ]
  },
  {
   "cell_type": "code",
   "execution_count": 38,
   "id": "580c0ea2",
   "metadata": {},
   "outputs": [
    {
     "data": {
      "text/plain": [
       "0.05023826058201057"
      ]
     },
     "execution_count": 38,
     "metadata": {},
     "output_type": "execute_result"
    }
   ],
   "source": [
    "mean_ap"
   ]
  },
  {
   "cell_type": "code",
   "execution_count": 37,
   "id": "350fa66b",
   "metadata": {},
   "outputs": [],
   "source": [
    "sum_ap_500_700 = mean_ap*len(customer_list)\n",
    "#total\n",
    "\n",
    "filehandler = open(\"sum_ap_500_700\", 'wb') \n",
    "pickle.dump(sum_ap_500_700, filehandler)\n",
    "filehandler.close()"
   ]
  },
  {
   "cell_type": "code",
   "execution_count": 44,
   "id": "c74eca7a",
   "metadata": {},
   "outputs": [
    {
     "name": "stdout",
     "output_type": "stream",
     "text": [
      "1\n"
     ]
    }
   ],
   "source": [
    "#filehandler = open(str(x), \"rb\")\n",
    "#sum_ap_0_test = pickle.load(filehandler)\n",
    "#filehandler.close()\n",
    "#print(sum_ap_0_test)"
   ]
  },
  {
   "cell_type": "code",
   "execution_count": 29,
   "id": "f03d70c7",
   "metadata": {},
   "outputs": [],
   "source": [
    "# get all of the saved files\n",
    "sum_list = []\n",
    "\n",
    "file_list = ['sum_ap_100', 'sum_ap_200', 'sum_ap_500_700', 'sum_ap_700_1000', 'sum_ap_1000_1500', 'sum_ap_9000_11743']\n",
    "for file in file_list:\n",
    "    \n",
    "    filehandler = open(file + '.pkl', \"rb\")\n",
    "    sum_i = pickle.load(filehandler)\n",
    "    filehandler.close()\n",
    "    sum_list.append(sum_i)\n"
   ]
  },
  {
   "cell_type": "code",
   "execution_count": 31,
   "id": "0409e5d9",
   "metadata": {},
   "outputs": [
    {
     "name": "stdout",
     "output_type": "stream",
     "text": [
      "[6.056878306878306, 15.61100609267276, 10.047652116402114, 17.820128066378068, 20.8424062049062, 139.6703869047619]\n",
      "[100, 300, 200, 300, 500, 2743]\n",
      "[0.060568783068783064, 0.05203668697557587, 0.05023826058201057, 0.05940042688792689, 0.0416848124098124, 0.050918843202610975]\n"
     ]
    }
   ],
   "source": [
    "# Check if each metric seems reasonable\n",
    "div_list = [100,300,200,300,500,11743-9000]\n",
    "\n",
    "res = [i / j for i, j in zip(sum_list, div_list)]\n",
    "print(sum_list)\n",
    "print(div_list)\n",
    "print(res)"
   ]
  },
  {
   "cell_type": "code",
   "execution_count": 32,
   "id": "24fb9481",
   "metadata": {},
   "outputs": [
    {
     "data": {
      "text/plain": [
       "0.05069960359449659"
      ]
     },
     "execution_count": 32,
     "metadata": {},
     "output_type": "execute_result"
    }
   ],
   "source": [
    "np.sum(sum_list)/np.sum(div_list)"
   ]
  }
 ],
 "metadata": {
  "kernelspec": {
   "display_name": "Python 3 (ipykernel)",
   "language": "python",
   "name": "python3"
  },
  "language_info": {
   "codemirror_mode": {
    "name": "ipython",
    "version": 3
   },
   "file_extension": ".py",
   "mimetype": "text/x-python",
   "name": "python",
   "nbconvert_exporter": "python",
   "pygments_lexer": "ipython3",
   "version": "3.9.7"
  }
 },
 "nbformat": 4,
 "nbformat_minor": 5
}
