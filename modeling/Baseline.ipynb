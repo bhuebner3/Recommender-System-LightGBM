{
 "cells": [
  {
   "cell_type": "code",
   "execution_count": 4,
   "id": "7894cea7",
   "metadata": {},
   "outputs": [],
   "source": [
    "import numpy as np # linear algebra\n",
    "import pandas as pd # data processing, CSV file I/O (e.g. pd.read_csv)\n",
    "import pickle\n",
    "import datetime"
   ]
  },
  {
   "cell_type": "code",
   "execution_count": 5,
   "id": "b72dc226",
   "metadata": {},
   "outputs": [],
   "source": [
    "filehandler = open(\"transactions_6mth.pkl\", \"rb\")\n",
    "df_trans = pickle.load(filehandler)\n",
    "filehandler.close()"
   ]
  },
  {
   "cell_type": "code",
   "execution_count": 14,
   "id": "4f87d988",
   "metadata": {},
   "outputs": [],
   "source": [
    "day_start = datetime.datetime(2020, 9, 9, 0, 0)\n",
    "day_end = datetime.datetime(2020, 9, 15, 0, 0)\n",
    "N = 12\n",
    "\n",
    "q_date = \"\"\n",
    "q_date = f\"((t_dat >= '{day_start}') and (t_dat <= '{day_end}'))\"\n",
    "\n",
    "top_art_all = df_trans.query(q_date).groupby(\"article_id\")[\"t_dat\"].count().sort_values(ascending = False).index[:N].tolist()\n",
    "\n",
    "# Fake transations\n",
    "customer_array = np.repeat(df_trans.customer_id.unique(), N)\n",
    "article_array = np.tile(top_art_all, len(df_trans.customer_id.unique()))\n",
    "df_setup = pd.DataFrame({'customer_id':customer_array, 'article_id':article_array})\n",
    "\n"
   ]
  },
  {
   "cell_type": "code",
   "execution_count": 16,
   "id": "9b560002",
   "metadata": {},
   "outputs": [],
   "source": [
    "article_rec = df_setup.groupby(\"customer_id\").article_id.apply(lambda x: list(x)[:12])\n",
    "rec_dict = article_rec.to_dict()"
   ]
  },
  {
   "cell_type": "code",
   "execution_count": 19,
   "id": "eddf7d0c",
   "metadata": {},
   "outputs": [],
   "source": [
    "# Start validation\n",
    "\n",
    "test = transactions_6mth.loc[transactions_6mth.t_dat >= '2020-09-16',:]"
   ]
  },
  {
   "cell_type": "code",
   "execution_count": 20,
   "id": "295c23e8",
   "metadata": {},
   "outputs": [],
   "source": [
    "def calc_cust_precision(u_id):\n",
    "    ground_truth = cust_orders[u_id]\n",
    "    hits_list = (np.isin(rec_dict[u_id], ground_truth))*1\n",
    "    ap = 0 ## average precision\n",
    "    hits = np.sum(hits_list)\n",
    "    relevant_n = len(ground_truth)\n",
    "\n",
    "    if (hits != 0):\n",
    "        for rank in range(1,len(hits_list)+1):\n",
    "            # update ap on hit items\n",
    "            hit = hits_list[rank-1]\n",
    "            if hit:\n",
    "                rank_hit_list = hits_list[0:rank]\n",
    "                prec_i = np.mean(rank_hit_list)\n",
    "                ap += prec_i  \n",
    "        ap /= (min(relevant_n, 12))\n",
    "    \n",
    "    return ap"
   ]
  },
  {
   "cell_type": "code",
   "execution_count": 21,
   "id": "6a850360",
   "metadata": {},
   "outputs": [],
   "source": [
    "cust_orders = test.groupby(\"customer_id\")[\"article_id\"].unique()"
   ]
  },
  {
   "cell_type": "code",
   "execution_count": 22,
   "id": "cec92083",
   "metadata": {},
   "outputs": [],
   "source": [
    "customer_list = test.customer_id.unique()\n",
    "ap_u = 0.\n",
    "\n",
    "for u_id in customer_list:\n",
    "    ap_u += calc_cust_precision(u_id)\n",
    "mean_ap = ap_u / len(customer_list) "
   ]
  },
  {
   "cell_type": "code",
   "execution_count": 23,
   "id": "f7698f7e",
   "metadata": {},
   "outputs": [
    {
     "data": {
      "text/plain": [
       "0.013036469248279512"
      ]
     },
     "execution_count": 23,
     "metadata": {},
     "output_type": "execute_result"
    }
   ],
   "source": [
    "mean_ap"
   ]
  },
  {
   "cell_type": "code",
   "execution_count": null,
   "id": "efa042e9",
   "metadata": {},
   "outputs": [],
   "source": []
  }
 ],
 "metadata": {
  "kernelspec": {
   "display_name": "Python 3 (ipykernel)",
   "language": "python",
   "name": "python3"
  },
  "language_info": {
   "codemirror_mode": {
    "name": "ipython",
    "version": 3
   },
   "file_extension": ".py",
   "mimetype": "text/x-python",
   "name": "python",
   "nbconvert_exporter": "python",
   "pygments_lexer": "ipython3",
   "version": "3.9.7"
  }
 },
 "nbformat": 4,
 "nbformat_minor": 5
}
